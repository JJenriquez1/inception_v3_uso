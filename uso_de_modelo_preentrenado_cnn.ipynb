{
 "cells": [
  {
   "cell_type": "markdown",
   "id": "9462ac06",
   "metadata": {},
   "source": [
    "# Modelo inception_v3 \n",
    "Este proyecto es parte del curso de Platzi  , usameremos el modelo inception que es un RNN "
   ]
  },
  {
   "cell_type": "code",
   "execution_count": 1,
   "id": "3df777ae",
   "metadata": {},
   "outputs": [],
   "source": [
    "import torch \n",
    "import numpy as np \n",
    "#importamos libreria para tener red neuronal , modelos ,data set y transformaciones\n",
    "from torchvision import utils\n",
    "from torchvision import models\n",
    "from torchvision import datasets\n",
    "from torchvision import transforms \n",
    "#Nos permite manipular imagnes \n",
    "from PIL import Image\n",
    "# trearla de internet \n",
    "import urllib.request as request \n",
    "#Graficar \n",
    "from matplotlib import pyplot as plt"
   ]
  },
  {
   "cell_type": "code",
   "execution_count": 2,
   "id": "826197d0",
   "metadata": {},
   "outputs": [
    {
     "name": "stderr",
     "output_type": "stream",
     "text": [
      "C:\\Users\\jandr\\anaconda3\\envs\\Data-science\\lib\\site-packages\\torchvision\\models\\_utils.py:208: UserWarning: The parameter 'pretrained' is deprecated since 0.13 and may be removed in the future, please use 'weights' instead.\n",
      "  warnings.warn(\n",
      "C:\\Users\\jandr\\anaconda3\\envs\\Data-science\\lib\\site-packages\\torchvision\\models\\_utils.py:223: UserWarning: Arguments other than a weight enum or `None` for 'weights' are deprecated since 0.13 and may be removed in the future. The current behavior is equivalent to passing `weights=Inception_V3_Weights.IMAGENET1K_V1`. You can also use `weights=Inception_V3_Weights.DEFAULT` to get the most up-to-date weights.\n",
      "  warnings.warn(msg)\n"
     ]
    }
   ],
   "source": [
    "# -- traemos el modelo \n",
    "def modelo():\n",
    "    modelo = models.inception_v3(pretrained=True)\n",
    "    return modelo\n",
    "inception = modelo()"
   ]
  },
  {
   "cell_type": "markdown",
   "id": "f322d7f0",
   "metadata": {},
   "source": [
    "# Usaremos un dataset\n",
    "Vamos a usar un dataset que contiene imagenes preestablecidas ,CIFAR-10, de dicho set sus imagenes estan en 32x32x3 (RGB) de tamaño para agilizar su estudio , clases mutuamente excluyentes , las clases que contiene son 10 : plane, automobile, bird, cat, deer, dog, frog, horse, ship, truck. con 6000 imagines por clase "
   ]
  },
  {
   "cell_type": "code",
   "execution_count": 11,
   "id": "b2a886e4",
   "metadata": {
    "scrolled": true
   },
   "outputs": [
    {
     "name": "stdout",
     "output_type": "stream",
     "text": [
      "Files already downloaded and verified\n",
      "Files already downloaded and verified\n"
     ]
    }
   ],
   "source": [
    "def get_dataset():\n",
    "    # -- definimos donde se van a guardar --\n",
    "    data_path = 'data/'\n",
    "    # -- traemos CIFAR10 -- \n",
    "    dataset_ = datasets.CIFAR10(data_path , train=True , download=True)\n",
    "    validation_sets =  datasets.CIFAR10(data_path , train=False , download=True)\n",
    "    return dataset_ ,validation_sets , data_path\n",
    "dataset , validation_set, data_path = get_dataset()\n",
    "    "
   ]
  },
  {
   "cell_type": "code",
   "execution_count": 4,
   "id": "caad37ca",
   "metadata": {},
   "outputs": [
    {
     "data": {
      "text/plain": [
       "Dataset CIFAR10\n",
       "    Number of datapoints: 50000\n",
       "    Root location: data/\n",
       "    Split: Train"
      ]
     },
     "execution_count": 4,
     "metadata": {},
     "output_type": "execute_result"
    }
   ],
   "source": [
    "dataset"
   ]
  },
  {
   "cell_type": "code",
   "execution_count": 5,
   "id": "60336568",
   "metadata": {},
   "outputs": [],
   "source": [
    "# -- vamos crear manualmente las clases -- \n",
    "clases = ['plane','car','bird','cat','deer','dog','frog','horse','ship','truck']\n",
    "# anteriormente ya hemos comprobado que la longitud del dataset es 50000 imagenes"
   ]
  },
  {
   "cell_type": "code",
   "execution_count": 6,
   "id": "483cc3d0",
   "metadata": {},
   "outputs": [
    {
     "data": {
      "text/plain": [
       "<matplotlib.image.AxesImage at 0x1a70bf35970>"
      ]
     },
     "execution_count": 6,
     "metadata": {},
     "output_type": "execute_result"
    },
    {
     "data": {
      "image/png": "[encoded data removed]",
      "text/plain": [
       "<Figure size 432x288 with 1 Axes>"
      ]
     },
     "metadata": {
      "needs_background": "light"
     },
     "output_type": "display_data"
    }
   ],
   "source": [
    "# -- hacemos una revision del dataset para ver si ha cargado bien -- \n",
    "img , label = dataset[11111]\n",
    "img, label , clases[label]\n",
    "# -- hacemos un plot -- \n",
    "plt.imshow(img)"
   ]
  },
  {
   "cell_type": "code",
   "execution_count": 9,
   "id": "52f2e10f",
   "metadata": {},
   "outputs": [
    {
     "data": {
      "text/plain": [
       "tensor([[[0.8824, 0.7020, 0.5294,  ..., 0.9098, 0.8980, 0.8941],\n",
       "         [0.8863, 0.6314, 0.4667,  ..., 0.9333, 0.9333, 0.9020],\n",
       "         [0.8235, 0.4745, 0.4235,  ..., 0.8627, 0.8588, 0.7922],\n",
       "         ...,\n",
       "         [0.5176, 0.5294, 0.4431,  ..., 0.5686, 0.6000, 0.5725],\n",
       "         [0.4235, 0.6471, 0.4863,  ..., 0.5882, 0.6118, 0.6902],\n",
       "         [0.5020, 0.4784, 0.5608,  ..., 0.5529, 0.5255, 0.6275]],\n",
       "\n",
       "        [[0.6706, 0.6980, 0.6706,  ..., 0.8353, 0.8510, 0.8667],\n",
       "         [0.6784, 0.6392, 0.6118,  ..., 0.8902, 0.9098, 0.8667],\n",
       "         [0.6980, 0.5922, 0.5569,  ..., 0.8078, 0.8431, 0.7882],\n",
       "         ...,\n",
       "         [0.4157, 0.4353, 0.4157,  ..., 0.5059, 0.5843, 0.5137],\n",
       "         [0.4196, 0.5216, 0.4392,  ..., 0.5216, 0.5686, 0.6000],\n",
       "         [0.4275, 0.3765, 0.5020,  ..., 0.4627, 0.4824, 0.5333]],\n",
       "\n",
       "        [[0.7137, 0.8235, 0.7882,  ..., 0.6314, 0.6588, 0.6784],\n",
       "         [0.7098, 0.7255, 0.7255,  ..., 0.6745, 0.7216, 0.7020],\n",
       "         [0.6980, 0.6941, 0.6392,  ..., 0.5961, 0.6824, 0.6235],\n",
       "         ...,\n",
       "         [0.2784, 0.3529, 0.3922,  ..., 0.4275, 0.5608, 0.4667],\n",
       "         [0.3843, 0.4706, 0.4431,  ..., 0.5137, 0.5216, 0.5451],\n",
       "         [0.4118, 0.3961, 0.4745,  ..., 0.4667, 0.4510, 0.4235]]])"
      ]
     },
     "execution_count": 9,
     "metadata": {},
     "output_type": "execute_result"
    }
   ],
   "source": [
    "# -- debemos convertir los datos a tensor para torch las pueda manejar  --\n",
    "def to_tensor(img):\n",
    "    tensor_transform = transforms.ToTensor()\n",
    "    img_tensor  = tensor_transform(img)\n",
    "    return tensor_transform, img_tensor\n",
    "tensor_transform, img_tensor = to_tensor(img)\n",
    "img_tensor.shape\n",
    "img_tensor"
   ]
  },
  {
   "cell_type": "code",
   "execution_count": 12,
   "id": "eb63473c",
   "metadata": {},
   "outputs": [
    {
     "name": "stdout",
     "output_type": "stream",
     "text": [
      "Files already downloaded and verified\n"
     ]
    }
   ],
   "source": [
    "# -- ahora añaodimos tensor_transform a CIFAR10 para que queden como los datos -- \n",
    "dataset = datasets.CIFAR10(data_path, train=True, download=True, transform=tensor_transform)"
   ]
  },
  {
   "cell_type": "code",
   "execution_count": 13,
   "id": "5a372aec",
   "metadata": {},
   "outputs": [
    {
     "data": {
      "text/plain": [
       "tensor([[[0.8824, 0.7020, 0.5294,  ..., 0.9098, 0.8980, 0.8941],\n",
       "         [0.8863, 0.6314, 0.4667,  ..., 0.9333, 0.9333, 0.9020],\n",
       "         [0.8235, 0.4745, 0.4235,  ..., 0.8627, 0.8588, 0.7922],\n",
       "         ...,\n",
       "         [0.5176, 0.5294, 0.4431,  ..., 0.5686, 0.6000, 0.5725],\n",
       "         [0.4235, 0.6471, 0.4863,  ..., 0.5882, 0.6118, 0.6902],\n",
       "         [0.5020, 0.4784, 0.5608,  ..., 0.5529, 0.5255, 0.6275]],\n",
       "\n",
       "        [[0.6706, 0.6980, 0.6706,  ..., 0.8353, 0.8510, 0.8667],\n",
       "         [0.6784, 0.6392, 0.6118,  ..., 0.8902, 0.9098, 0.8667],\n",
       "         [0.6980, 0.5922, 0.5569,  ..., 0.8078, 0.8431, 0.7882],\n",
       "         ...,\n",
       "         [0.4157, 0.4353, 0.4157,  ..., 0.5059, 0.5843, 0.5137],\n",
       "         [0.4196, 0.5216, 0.4392,  ..., 0.5216, 0.5686, 0.6000],\n",
       "         [0.4275, 0.3765, 0.5020,  ..., 0.4627, 0.4824, 0.5333]],\n",
       "\n",
       "        [[0.7137, 0.8235, 0.7882,  ..., 0.6314, 0.6588, 0.6784],\n",
       "         [0.7098, 0.7255, 0.7255,  ..., 0.6745, 0.7216, 0.7020],\n",
       "         [0.6980, 0.6941, 0.6392,  ..., 0.5961, 0.6824, 0.6235],\n",
       "         ...,\n",
       "         [0.2784, 0.3529, 0.3922,  ..., 0.4275, 0.5608, 0.4667],\n",
       "         [0.3843, 0.4706, 0.4431,  ..., 0.5137, 0.5216, 0.5451],\n",
       "         [0.4118, 0.3961, 0.4745,  ..., 0.4667, 0.4510, 0.4235]]])"
      ]
     },
     "execution_count": 13,
     "metadata": {},
     "output_type": "execute_result"
    }
   ],
   "source": [
    "#volevemos a ver que obtenemos del dataset e imprimimos un tensor para ver so esta correcto\n",
    "img , label = dataset[11111]\n",
    "img\n"
   ]
  },
  {
   "cell_type": "code",
   "execution_count": 15,
   "id": "6faa110b",
   "metadata": {},
   "outputs": [
    {
     "data": {
      "text/plain": [
       "<matplotlib.image.AxesImage at 0x1a70e63a580>"
      ]
     },
     "execution_count": 15,
     "metadata": {},
     "output_type": "execute_result"
    },
    {
     "data": {
      "image/png": "[encoded data removed]",
      "text/plain": [
       "<Figure size 432x288 with 1 Axes>"
      ]
     },
     "metadata": {
      "needs_background": "light"
     },
     "output_type": "display_data"
    }
   ],
   "source": [
    "#obtenemos los minimos y maximos de la funcion\n",
    "img.min() , img.max()\n",
    "#mostramos la imagen con una permutacion\n",
    "plt.imshow(img.permute(1,2,0))"
   ]
  },
  {
   "cell_type": "code",
   "execution_count": 17,
   "id": "2764db12",
   "metadata": {},
   "outputs": [
    {
     "data": {
      "text/plain": [
       "torch.Size([3, 32, 32, 50000])"
      ]
     },
     "execution_count": 17,
     "metadata": {},
     "output_type": "execute_result"
    }
   ],
   "source": [
    "#hacemos un stack con todas las imagenes y como tiene 3D las creamos por cada una del dataset\n",
    "imgs = torch.stack([img_tensor for img_tensor  , _ in dataset] , dim=3)\n",
    "imgs.shape"
   ]
  },
  {
   "cell_type": "code",
   "execution_count": 19,
   "id": "5473b21a",
   "metadata": {},
   "outputs": [
    {
     "data": {
      "text/plain": [
       "(tensor([0.4914, 0.4822, 0.4465]), tensor([0.2470, 0.2435, 0.2616]))"
      ]
     },
     "execution_count": 19,
     "metadata": {},
     "output_type": "execute_result"
    }
   ],
   "source": [
    "# -- un buen uso seria sacar la media, la desv standar para añadirlos a la funcion transform en Normalize -- \n",
    "imgs.view(3,-1).mean(dim=1) , imgs.view(3,-1).std(dim=1)\n"
   ]
  },
  {
   "cell_type": "code",
   "execution_count": 20,
   "id": "318b2a39",
   "metadata": {},
   "outputs": [],
   "source": [
    "def transformacion():\n",
    "    #con datos obtenidos en mean y std los colocamos en transform junto a la funcion Normalize y el metodo compose\n",
    "    transform = transforms.Compose(\n",
    "                  [transforms.ToTensor(),\n",
    "                   transforms.Normalize((0.4914, 0.4822, 0.4465), (0.2470, 0.2435, 0.2616))\n",
    "                  ])\n",
    "    return transform\n",
    "transform = transformacion()"
   ]
  },
  {
   "cell_type": "code",
   "execution_count": 21,
   "id": "0952c014",
   "metadata": {},
   "outputs": [
    {
     "name": "stdout",
     "output_type": "stream",
     "text": [
      "Files already downloaded and verified\n"
     ]
    }
   ],
   "source": [
    "#volvemos a importar todo el data set pero esta ves le pasamos la funcion transform ya creada \n",
    "dataset = datasets.CIFAR10(data_path, train=True, download=True, transform=transform)"
   ]
  },
  {
   "cell_type": "code",
   "execution_count": 29,
   "id": "7703bb03",
   "metadata": {},
   "outputs": [
    {
     "name": "stderr",
     "output_type": "stream",
     "text": [
      "Clipping input data to the valid range for imshow with RGB data ([0..1] for floats or [0..255] for integers).\n"
     ]
    },
    {
     "data": {
      "text/plain": [
       "'bird'"
      ]
     },
     "execution_count": 29,
     "metadata": {},
     "output_type": "execute_result"
    },
    {
     "data": {
      "image/png": "[encoded data removed]",
      "text/plain": [
       "<Figure size 432x288 with 1 Axes>"
      ]
     },
     "metadata": {
      "needs_background": "light"
     },
     "output_type": "display_data"
    }
   ],
   "source": [
    "#se trae la imagen de los dataset y probamos a impromir de nuevo para verificar que todo esta en orden \n",
    "numeros = 11420 \n",
    "img_transformed,label = dataset[numeros]\n",
    "plt.imshow(img_transformed.permute(1, 2, 0))\n",
    "clases[label]"
   ]
  },
  {
   "cell_type": "code",
   "execution_count": null,
   "id": "b7643fac",
   "metadata": {},
   "outputs": [],
   "source": []
  }
 ],
 "metadata": {
  "kernelspec": {
   "display_name": "Python 3 (ipykernel)",
   "language": "python",
   "name": "python3"
  },
  "language_info": {
   "codemirror_mode": {
    "name": "ipython",
    "version": 3
   },
   "file_extension": ".py",
   "mimetype": "text/x-python",
   "name": "python",
   "nbconvert_exporter": "python",
   "pygments_lexer": "ipython3",
   "version": "3.9.12"
  }
 },
 "nbformat": 4,
 "nbformat_minor": 5
}
